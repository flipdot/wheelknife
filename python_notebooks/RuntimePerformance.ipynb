{
 "cells": [
  {
   "cell_type": "code",
   "execution_count": 29,
   "metadata": {},
   "outputs": [],
   "source": [
    "import numpy as np\n",
    "from matplotlib import pyplot as plt\n",
    "\n",
    "\n",
    "filename = \"log_25112018-1720.csv\"\n",
    "data = np.loadtxt(open(\"../../wheelknife-data/\"+filename, \"rb\"), delimiter=\",\", skiprows=1)"
   ]
  },
  {
   "cell_type": "markdown",
   "metadata": {},
   "source": [
    "# Time between Measurements"
   ]
  },
  {
   "cell_type": "code",
   "execution_count": 30,
   "metadata": {},
   "outputs": [
    {
     "name": "stdout",
     "output_type": "stream",
     "text": [
      "mean 11.850521436848204\n",
      "std 2.0448950839183397\n",
      "median 11.0\n",
      "min 9.0\n",
      "max 27.0\n"
     ]
    },
    {
     "data": {
      "text/plain": [
       "(array([779.,  86., 801.,  14.,  32.,   1.,   5.,   5.,   2.,   1.]),\n",
       " array([ 9. , 10.8, 12.6, 14.4, 16.2, 18. , 19.8, 21.6, 23.4, 25.2, 27. ]),\n",
       " <a list of 10 Patch objects>)"
      ]
     },
     "execution_count": 30,
     "metadata": {},
     "output_type": "execute_result"
    },
    {
     "data": {
      "image/png": "[encoded data removed]",
      "text/plain": [
       "<Figure size 432x288 with 1 Axes>"
      ]
     },
     "metadata": {},
     "output_type": "display_data"
    }
   ],
   "source": [
    "start_times = data[1:,0] # first start time interessiert nicht\n",
    "end_times = data[:-1, 2] # letzte end time interessiert nicht\n",
    "time_diff = start_times-end_times\n",
    "print(\"mean\", np.mean(time_diff))\n",
    "print(\"std\", np.std(time_diff))\n",
    "print(\"median\", np.median(time_diff))\n",
    "print(\"min\", np.min(time_diff))\n",
    "print(\"max\", np.max(time_diff))\n",
    "plt.hist(time_diff, bins=10)"
   ]
  },
  {
   "cell_type": "markdown",
   "metadata": {},
   "source": [
    "# Measurement Time"
   ]
  },
  {
   "cell_type": "code",
   "execution_count": 33,
   "metadata": {},
   "outputs": [
    {
     "name": "stdout",
     "output_type": "stream",
     "text": [
      "mean 20.371163867979156\n",
      "std 10.053910385906734\n",
      "median 17.0\n",
      "min 8.0\n",
      "max 51.0\n"
     ]
    },
    {
     "data": {
      "text/plain": [
       "array([84., 25.])"
      ]
     },
     "execution_count": 33,
     "metadata": {},
     "output_type": "execute_result"
    },
    {
     "data": {
      "image/png": "[encoded data removed]",
      "text/plain": [
       "<Figure size 432x288 with 1 Axes>"
      ]
     },
     "metadata": {},
     "output_type": "display_data"
    }
   ],
   "source": [
    "start_times = data[:,0] # first start time interessiert nicht\n",
    "end_times = data[:, 2] # letzte end time interessiert nicht\n",
    "time_diff = end_times-start_times\n",
    "print(\"mean\", np.mean(time_diff))\n",
    "print(\"std\", np.std(time_diff))\n",
    "print(\"median\", np.median(time_diff))\n",
    "print(\"min\", np.min(time_diff))\n",
    "print(\"max\", np.max(time_diff))\n",
    "plt.hist(time_diff, bins=10)\n",
    "data[np.argmin(time_diff),3:5]"
   ]
  }
 ],
 "metadata": {
  "kernelspec": {
   "display_name": "Python 3",
   "language": "python",
   "name": "python3"
  },
  "language_info": {
   "codemirror_mode": {
    "name": "ipython",
    "version": 3
   },
   "file_extension": ".py",
   "mimetype": "text/x-python",
   "name": "python",
   "nbconvert_exporter": "python",
   "pygments_lexer": "ipython3",
   "version": "3.6.5"
  }
 },
 "nbformat": 4,
 "nbformat_minor": 2
}
